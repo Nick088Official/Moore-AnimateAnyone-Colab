{
  "cells": [
    {
      "cell_type": "markdown",
      "metadata": {
        "id": "view-in-github",
        "colab_type": "text"
      },
      "source": [
        "<a href=\"https://colab.research.google.com/github/Nick088Official/Moore-AnimateAnyone-Colab/blob/main/Moore_AnimateAnyone_Gradio_UI.ipynb\" target=\"_parent\"><img src=\"https://colab.research.google.com/assets/colab-badge.svg\" alt=\"Open In Colab\"/></a>"
      ]
    },
    {
      "cell_type": "markdown",
      "metadata": {
        "id": "WNxZx3UnXJ8C"
      },
      "source": [
        "# Moore-AnimateAnyone Gradio UI\n",
        "\n",
        "[Moore-AnimateAnyone Official Github Repo](https://github.com/MooreThreads/Moore-AnimateAnyone)\n",
        "\n",
        "Google Colab Made by [Nick088](https:linktr.ee/Nick088)",
        "\n",
        "**WARNING: COULD RISK YOUR FREE TIER COLAB ACC**"
      ]
    },
    {
      "cell_type": "code",
      "execution_count": null,
      "metadata": {
        "cellView": "form",
        "id": "vBJX2auEUgwJ"
      },
      "outputs": [],
      "source": [
        "#@title Install\n",
        "\n",
        "#@markdown If it tells you to restart runtime, just click cancel\n",
        "\n",
        "!git clone https://huggingface.co/spaces/Nick088/Moore-AnimateAnyone\n",
        "\n",
        "%cd Moore-AnimateAnyone\n",
        "\n",
        "!pip install -r requirements.txt"
      ]
    },
    {
      "cell_type": "code",
      "execution_count": null,
      "metadata": {
        "id": "vU7XZE6lXKhJ",
        "cellView": "form"
      },
      "outputs": [],
      "source": [
        "#@title Run\n",
        "\n",
        "#@markdown Click on the Gradio Public Link\n",
        "\n",
        "!python app.py"
      ]
    }
  ],
  "metadata": {
    "accelerator": "GPU",
    "colab": {
      "gpuType": "T4",
      "provenance": [],
      "authorship_tag": "ABX9TyONVlL9DuIsSWa0HFOe/j83",
      "include_colab_link": true
    },
    "kernelspec": {
      "display_name": "Python 3",
      "name": "python3"
    },
    "language_info": {
      "name": "python"
    }
  },
  "nbformat": 4,
  "nbformat_minor": 0
}
